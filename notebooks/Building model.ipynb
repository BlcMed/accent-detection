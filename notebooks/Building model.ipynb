{
 "cells": [
  {
   "cell_type": "markdown",
   "metadata": {},
   "source": [
    "---\n",
    "---"
   ]
  },
  {
   "cell_type": "markdown",
   "metadata": {},
   "source": [
    "# Modelling"
   ]
  },
  {
   "cell_type": "markdown",
   "metadata": {},
   "source": [
    "---\n",
    "---"
   ]
  },
  {
   "cell_type": "code",
   "execution_count": 7,
   "metadata": {},
   "outputs": [],
   "source": [
    "import numpy as np\n",
    "import pandas as pd\n",
    "from sklearn.model_selection import train_test_split\n",
    "from tensorflow import keras\n",
    "from tensorflow.keras import layers\n",
    "import sys\n",
    "sys.path.append(\"../src\")\n",
    "from load_config import load_constants_from_yaml\n",
    "from sklearn.preprocessing import LabelEncoder"
   ]
  },
  {
   "cell_type": "markdown",
   "metadata": {},
   "source": [
    "Define constants"
   ]
  },
  {
   "cell_type": "code",
   "execution_count": 8,
   "metadata": {},
   "outputs": [],
   "source": [
    "constants = load_constants_from_yaml('../constants.yml')\n",
    "\n",
    "SAMPLING_RATING = constants[\"SAMPLING_RATING\"]\n",
    "FRAME_LENGTH_ENERGY = constants[\"FRAME_LENGTH_ENERGY\"]\n",
    "THRESHOLD_PERCENTAGE = constants[\"THRESHOLD_PERCENTAGE\"]\n",
    "MIN_SILENCE_DURATION = constants[\"MIN_SILENCE_DURATION\"]\n",
    "HOP_LENGTH = constants[\"HOP_LENGTH\"]\n",
    "TEST_SIZE = 0.2\n",
    "FIRST_LAYER_NEURONS = 128\n",
    "SECOND_LAYER_NEURONS = 64\n",
    "RANDOM_STATE = 42\n",
    "processed_data_path = \"../data/processed/\""
   ]
  },
  {
   "cell_type": "code",
   "execution_count": 9,
   "metadata": {},
   "outputs": [],
   "source": [
    "EPOCHS = 10\n",
    "BATCH_SIZE=32\n",
    "VALIDATION_SPLIT=0.2"
   ]
  },
  {
   "cell_type": "markdown",
   "metadata": {},
   "source": [
    "Load data"
   ]
  },
  {
   "cell_type": "code",
   "execution_count": 10,
   "metadata": {},
   "outputs": [],
   "source": [
    "df = pd.read_csv(processed_data_path+\"df_transformed.csv\")"
   ]
  },
  {
   "cell_type": "code",
   "execution_count": 11,
   "metadata": {},
   "outputs": [
    {
     "data": {
      "text/html": [
       "<div>\n",
       "<style scoped>\n",
       "    .dataframe tbody tr th:only-of-type {\n",
       "        vertical-align: middle;\n",
       "    }\n",
       "\n",
       "    .dataframe tbody tr th {\n",
       "        vertical-align: top;\n",
       "    }\n",
       "\n",
       "    .dataframe thead th {\n",
       "        text-align: right;\n",
       "    }\n",
       "</style>\n",
       "<table border=\"1\" class=\"dataframe\">\n",
       "  <thead>\n",
       "    <tr style=\"text-align: right;\">\n",
       "      <th></th>\n",
       "      <th>label</th>\n",
       "      <th>mfcc_1</th>\n",
       "      <th>mfcc_2</th>\n",
       "      <th>mfcc_3</th>\n",
       "      <th>mfcc_4</th>\n",
       "      <th>mfcc_5</th>\n",
       "      <th>mfcc_6</th>\n",
       "      <th>mfcc_7</th>\n",
       "      <th>mfcc_8</th>\n",
       "      <th>mfcc_9</th>\n",
       "      <th>mfcc_10</th>\n",
       "      <th>mfcc_11</th>\n",
       "      <th>mfcc_12</th>\n",
       "      <th>mfcc_13</th>\n",
       "    </tr>\n",
       "  </thead>\n",
       "  <tbody>\n",
       "    <tr>\n",
       "      <th>0</th>\n",
       "      <td>1</td>\n",
       "      <td>-2.199065</td>\n",
       "      <td>-0.881256</td>\n",
       "      <td>0.591127</td>\n",
       "      <td>-0.169963</td>\n",
       "      <td>0.582260</td>\n",
       "      <td>0.748747</td>\n",
       "      <td>1.134152</td>\n",
       "      <td>0.801761</td>\n",
       "      <td>0.953608</td>\n",
       "      <td>0.726335</td>\n",
       "      <td>0.872313</td>\n",
       "      <td>0.664804</td>\n",
       "      <td>0.865082</td>\n",
       "    </tr>\n",
       "    <tr>\n",
       "      <th>1</th>\n",
       "      <td>1</td>\n",
       "      <td>-2.268200</td>\n",
       "      <td>-1.028002</td>\n",
       "      <td>0.353531</td>\n",
       "      <td>-0.367497</td>\n",
       "      <td>0.426105</td>\n",
       "      <td>0.683014</td>\n",
       "      <td>1.162779</td>\n",
       "      <td>0.914434</td>\n",
       "      <td>1.118985</td>\n",
       "      <td>0.903471</td>\n",
       "      <td>1.027281</td>\n",
       "      <td>0.782093</td>\n",
       "      <td>0.921110</td>\n",
       "    </tr>\n",
       "    <tr>\n",
       "      <th>2</th>\n",
       "      <td>1</td>\n",
       "      <td>-2.359687</td>\n",
       "      <td>-1.228744</td>\n",
       "      <td>-0.007906</td>\n",
       "      <td>-0.736143</td>\n",
       "      <td>0.002961</td>\n",
       "      <td>0.278296</td>\n",
       "      <td>0.772721</td>\n",
       "      <td>0.561240</td>\n",
       "      <td>0.813884</td>\n",
       "      <td>0.648693</td>\n",
       "      <td>0.813558</td>\n",
       "      <td>0.586497</td>\n",
       "      <td>0.760301</td>\n",
       "    </tr>\n",
       "    <tr>\n",
       "      <th>3</th>\n",
       "      <td>1</td>\n",
       "      <td>-2.359693</td>\n",
       "      <td>-1.228758</td>\n",
       "      <td>-0.007932</td>\n",
       "      <td>-0.736172</td>\n",
       "      <td>0.002924</td>\n",
       "      <td>0.278254</td>\n",
       "      <td>0.772673</td>\n",
       "      <td>0.561186</td>\n",
       "      <td>0.813826</td>\n",
       "      <td>0.648631</td>\n",
       "      <td>0.813491</td>\n",
       "      <td>0.586419</td>\n",
       "      <td>0.760223</td>\n",
       "    </tr>\n",
       "    <tr>\n",
       "      <th>4</th>\n",
       "      <td>1</td>\n",
       "      <td>-2.359697</td>\n",
       "      <td>-1.228765</td>\n",
       "      <td>-0.007944</td>\n",
       "      <td>-0.736186</td>\n",
       "      <td>0.002906</td>\n",
       "      <td>0.278235</td>\n",
       "      <td>0.772650</td>\n",
       "      <td>0.561161</td>\n",
       "      <td>0.813798</td>\n",
       "      <td>0.648601</td>\n",
       "      <td>0.813459</td>\n",
       "      <td>0.586382</td>\n",
       "      <td>0.760185</td>\n",
       "    </tr>\n",
       "  </tbody>\n",
       "</table>\n",
       "</div>"
      ],
      "text/plain": [
       "   label    mfcc_1    mfcc_2    mfcc_3    mfcc_4    mfcc_5    mfcc_6  \\\n",
       "0      1 -2.199065 -0.881256  0.591127 -0.169963  0.582260  0.748747   \n",
       "1      1 -2.268200 -1.028002  0.353531 -0.367497  0.426105  0.683014   \n",
       "2      1 -2.359687 -1.228744 -0.007906 -0.736143  0.002961  0.278296   \n",
       "3      1 -2.359693 -1.228758 -0.007932 -0.736172  0.002924  0.278254   \n",
       "4      1 -2.359697 -1.228765 -0.007944 -0.736186  0.002906  0.278235   \n",
       "\n",
       "     mfcc_7    mfcc_8    mfcc_9   mfcc_10   mfcc_11   mfcc_12   mfcc_13  \n",
       "0  1.134152  0.801761  0.953608  0.726335  0.872313  0.664804  0.865082  \n",
       "1  1.162779  0.914434  1.118985  0.903471  1.027281  0.782093  0.921110  \n",
       "2  0.772721  0.561240  0.813884  0.648693  0.813558  0.586497  0.760301  \n",
       "3  0.772673  0.561186  0.813826  0.648631  0.813491  0.586419  0.760223  \n",
       "4  0.772650  0.561161  0.813798  0.648601  0.813459  0.586382  0.760185  "
      ]
     },
     "execution_count": 11,
     "metadata": {},
     "output_type": "execute_result"
    }
   ],
   "source": [
    "df.head(5)"
   ]
  },
  {
   "cell_type": "markdown",
   "metadata": {},
   "source": [
    "Split data set"
   ]
  },
  {
   "cell_type": "code",
   "execution_count": 12,
   "metadata": {},
   "outputs": [],
   "source": [
    "X = df.drop(\"label\", axis=1)\n",
    "y = df[\"label\"]\n",
    "X_train, X_test, y_train, y_test = train_test_split(\n",
    "    X, y, test_size=TEST_SIZE, random_state=RANDOM_STATE)"
   ]
  },
  {
   "cell_type": "markdown",
   "metadata": {},
   "source": [
    "### Model architecture"
   ]
  },
  {
   "cell_type": "markdown",
   "metadata": {},
   "source": [
    "Define the model"
   ]
  },
  {
   "cell_type": "code",
   "execution_count": 13,
   "metadata": {},
   "outputs": [],
   "source": [
    "model = keras.Sequential([\n",
    "    # Input shape based on MFCC features\n",
    "    layers.Input(shape=X_train.shape[1:]),\n",
    "    layers.Flatten(),  # Flatten the input\n",
    "    # Dense layer with ReLU activation\n",
    "    layers.Dense(FIRST_LAYER_NEURONS, activation='relu'),\n",
    "    # Dense layer with ReLU activation\n",
    "    layers.Dense(SECOND_LAYER_NEURONS, activation='relu'),\n",
    "    # Output layer with sigmoid activation for binary classification\n",
    "    layers.Dense(1, activation='sigmoid')\n",
    "])"
   ]
  },
  {
   "cell_type": "markdown",
   "metadata": {},
   "source": [
    "Compile the model"
   ]
  },
  {
   "cell_type": "code",
   "execution_count": 14,
   "metadata": {},
   "outputs": [],
   "source": [
    "model.compile(optimizer='adam', loss='categorical_crossentropy', metrics=['accuracy'])"
   ]
  },
  {
   "cell_type": "markdown",
   "metadata": {},
   "source": [
    "### Train the model"
   ]
  },
  {
   "cell_type": "code",
   "execution_count": 15,
   "metadata": {},
   "outputs": [
    {
     "name": "stdout",
     "output_type": "stream",
     "text": [
      "Epoch 1/10\n"
     ]
    },
    {
     "name": "stderr",
     "output_type": "stream",
     "text": [
      "/home/cuphead/Projects/accent-detection/venv/lib/python3.10/site-packages/keras/src/losses/losses.py:22: SyntaxWarning: In loss categorical_crossentropy, expected y_pred.shape to be (batch_size, num_classes) with num_classes > 1. Received: y_pred.shape=(None, 1). Consider using 'binary_crossentropy' if you only have 2 classes.\n",
      "  return self.fn(y_true, y_pred, **self._fn_kwargs)\n"
     ]
    },
    {
     "name": "stdout",
     "output_type": "stream",
     "text": [
      "\u001b[1m11232/11240\u001b[0m \u001b[32m━━━━━━━━━━━━━━━━━━━\u001b[0m\u001b[37m━\u001b[0m \u001b[1m0s\u001b[0m 3ms/step - accuracy: 0.6062 - loss: 0.0000e+00"
     ]
    },
    {
     "name": "stderr",
     "output_type": "stream",
     "text": [
      "/home/cuphead/Projects/accent-detection/venv/lib/python3.10/site-packages/keras/src/losses/losses.py:22: SyntaxWarning: In loss categorical_crossentropy, expected y_pred.shape to be (batch_size, num_classes) with num_classes > 1. Received: y_pred.shape=(None, 1). Consider using 'binary_crossentropy' if you only have 2 classes.\n",
      "  return self.fn(y_true, y_pred, **self._fn_kwargs)\n"
     ]
    },
    {
     "name": "stdout",
     "output_type": "stream",
     "text": [
      "\u001b[1m11240/11240\u001b[0m \u001b[32m━━━━━━━━━━━━━━━━━━━━\u001b[0m\u001b[37m\u001b[0m \u001b[1m36s\u001b[0m 3ms/step - accuracy: 0.6062 - loss: 0.0000e+00 - val_accuracy: 0.6064 - val_loss: 0.0000e+00\n",
      "Epoch 2/10\n",
      "\u001b[1m11240/11240\u001b[0m \u001b[32m━━━━━━━━━━━━━━━━━━━━\u001b[0m\u001b[37m\u001b[0m \u001b[1m39s\u001b[0m 3ms/step - accuracy: 0.6082 - loss: 0.0000e+00 - val_accuracy: 0.6064 - val_loss: 0.0000e+00\n",
      "Epoch 3/10\n",
      "\u001b[1m11240/11240\u001b[0m \u001b[32m━━━━━━━━━━━━━━━━━━━━\u001b[0m\u001b[37m\u001b[0m \u001b[1m36s\u001b[0m 3ms/step - accuracy: 0.6073 - loss: 0.0000e+00 - val_accuracy: 0.6064 - val_loss: 0.0000e+00\n",
      "Epoch 4/10\n",
      "\u001b[1m11240/11240\u001b[0m \u001b[32m━━━━━━━━━━━━━━━━━━━━\u001b[0m\u001b[37m\u001b[0m \u001b[1m37s\u001b[0m 3ms/step - accuracy: 0.6089 - loss: 0.0000e+00 - val_accuracy: 0.6064 - val_loss: 0.0000e+00\n",
      "Epoch 5/10\n",
      "\u001b[1m11240/11240\u001b[0m \u001b[32m━━━━━━━━━━━━━━━━━━━━\u001b[0m\u001b[37m\u001b[0m \u001b[1m40s\u001b[0m 4ms/step - accuracy: 0.6075 - loss: 0.0000e+00 - val_accuracy: 0.6064 - val_loss: 0.0000e+00\n",
      "Epoch 6/10\n",
      "\u001b[1m11240/11240\u001b[0m \u001b[32m━━━━━━━━━━━━━━━━━━━━\u001b[0m\u001b[37m\u001b[0m \u001b[1m46s\u001b[0m 4ms/step - accuracy: 0.6078 - loss: 0.0000e+00 - val_accuracy: 0.6064 - val_loss: 0.0000e+00\n",
      "Epoch 7/10\n",
      "\u001b[1m11240/11240\u001b[0m \u001b[32m━━━━━━━━━━━━━━━━━━━━\u001b[0m\u001b[37m\u001b[0m \u001b[1m47s\u001b[0m 4ms/step - accuracy: 0.6069 - loss: 0.0000e+00 - val_accuracy: 0.6064 - val_loss: 0.0000e+00\n",
      "Epoch 8/10\n",
      "\u001b[1m11240/11240\u001b[0m \u001b[32m━━━━━━━━━━━━━━━━━━━━\u001b[0m\u001b[37m\u001b[0m \u001b[1m43s\u001b[0m 4ms/step - accuracy: 0.6065 - loss: 0.0000e+00 - val_accuracy: 0.6064 - val_loss: 0.0000e+00\n",
      "Epoch 9/10\n",
      "\u001b[1m11240/11240\u001b[0m \u001b[32m━━━━━━━━━━━━━━━━━━━━\u001b[0m\u001b[37m\u001b[0m \u001b[1m40s\u001b[0m 4ms/step - accuracy: 0.6070 - loss: 0.0000e+00 - val_accuracy: 0.6064 - val_loss: 0.0000e+00\n",
      "Epoch 10/10\n",
      "\u001b[1m11240/11240\u001b[0m \u001b[32m━━━━━━━━━━━━━━━━━━━━\u001b[0m\u001b[37m\u001b[0m \u001b[1m34s\u001b[0m 3ms/step - accuracy: 0.6070 - loss: 0.0000e+00 - val_accuracy: 0.6064 - val_loss: 0.0000e+00\n"
     ]
    },
    {
     "data": {
      "text/plain": [
       "<keras.src.callbacks.history.History at 0x7cd627c78d60>"
      ]
     },
     "execution_count": 15,
     "metadata": {},
     "output_type": "execute_result"
    }
   ],
   "source": [
    "model.fit(X_train, y_train, epochs=EPOCHS, batch_size=BATCH_SIZE, validation_split=VALIDATION_SPLIT)"
   ]
  },
  {
   "cell_type": "markdown",
   "metadata": {},
   "source": [
    "### Evaluate the model on training set"
   ]
  },
  {
   "cell_type": "code",
   "execution_count": 16,
   "metadata": {},
   "outputs": [
    {
     "name": "stdout",
     "output_type": "stream",
     "text": [
      "\u001b[1m14050/14050\u001b[0m \u001b[32m━━━━━━━━━━━━━━━━━━━━\u001b[0m\u001b[37m\u001b[0m \u001b[1m27s\u001b[0m 2ms/step - accuracy: 0.6071 - loss: 0.0000e+00\n",
      "Train loss: 0.0\n",
      "Train accuracy: 0.6072508692741394\n"
     ]
    }
   ],
   "source": [
    "# Evaluate the model on training set\n",
    "train_loss, train_accuracy = model.evaluate(X_train, y_train)\n",
    "print(f\"Train loss: {train_loss}\")\n",
    "print(f\"Train accuracy: {train_accuracy}\")"
   ]
  },
  {
   "cell_type": "markdown",
   "metadata": {},
   "source": [
    "### Evaluate the model on the testing set"
   ]
  },
  {
   "cell_type": "code",
   "execution_count": 17,
   "metadata": {},
   "outputs": [
    {
     "name": "stdout",
     "output_type": "stream",
     "text": [
      "\u001b[1m3513/3513\u001b[0m \u001b[32m━━━━━━━━━━━━━━━━━━━━\u001b[0m\u001b[37m\u001b[0m \u001b[1m6s\u001b[0m 2ms/step - accuracy: 0.6098 - loss: 0.0000e+00\n",
      "Test Loss: 0.0\n",
      "Test Accuracy: 0.6092995405197144\n"
     ]
    }
   ],
   "source": [
    "loss, accuracy = model.evaluate(X_test, y_test)\n",
    "print(\"Test Loss:\", loss)\n",
    "print(\"Test Accuracy:\", accuracy)\n"
   ]
  }
 ],
 "metadata": {
  "kernelspec": {
   "display_name": "venv",
   "language": "python",
   "name": "python3"
  },
  "language_info": {
   "codemirror_mode": {
    "name": "ipython",
    "version": 3
   },
   "file_extension": ".py",
   "mimetype": "text/x-python",
   "name": "python",
   "nbconvert_exporter": "python",
   "pygments_lexer": "ipython3",
   "version": "3.10.12"
  }
 },
 "nbformat": 4,
 "nbformat_minor": 2
}
